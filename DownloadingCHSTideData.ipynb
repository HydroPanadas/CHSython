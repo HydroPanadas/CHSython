{
  "nbformat": 4,
  "nbformat_minor": 0,
  "metadata": {
    "colab": {
      "provenance": [],
      "include_colab_link": true
    },
    "kernelspec": {
      "name": "python3",
      "display_name": "Python 3"
    },
    "language_info": {
      "name": "python"
    }
  },
  "cells": [
    {
      "cell_type": "markdown",
      "metadata": {
        "id": "view-in-github",
        "colab_type": "text"
      },
      "source": [
        "<a href=\"https://colab.research.google.com/github/HydroPanadas/CHSython/blob/main/DownloadingCHSTideData.ipynb\" target=\"_parent\"><img src=\"https://colab.research.google.com/assets/colab-badge.svg\" alt=\"Open In Colab\"/></a>"
      ]
    },
    {
      "cell_type": "markdown",
      "source": [
        "# Canadian Tide Time Series Data Downloading"
      ],
      "metadata": {
        "id": "2Jruxg5KeNVQ"
      }
    },
    {
      "cell_type": "markdown",
      "source": [
        "**1. Set up Enviroment** italicized text"
      ],
      "metadata": {
        "id": "QSabmq_2vtHc"
      }
    },
    {
      "cell_type": "code",
      "source": [
        "!pip install requests\n",
        "!pip install pandas\n",
        "import requests\n",
        "import pandas as pd\n",
        "from datetime import datetime\n",
        "from datetime import timedelta\n",
        "import time"
      ],
      "metadata": {
        "id": "o4tHHxzOeNIB",
        "colab": {
          "base_uri": "https://localhost:8080/"
        },
        "outputId": "09252202-f86b-4570-d243-86cf13fdd362"
      },
      "execution_count": 1,
      "outputs": [
        {
          "output_type": "stream",
          "name": "stdout",
          "text": [
            "Requirement already satisfied: requests in /usr/local/lib/python3.12/dist-packages (2.32.4)\n",
            "Requirement already satisfied: charset_normalizer<4,>=2 in /usr/local/lib/python3.12/dist-packages (from requests) (3.4.3)\n",
            "Requirement already satisfied: idna<4,>=2.5 in /usr/local/lib/python3.12/dist-packages (from requests) (3.10)\n",
            "Requirement already satisfied: urllib3<3,>=1.21.1 in /usr/local/lib/python3.12/dist-packages (from requests) (2.5.0)\n",
            "Requirement already satisfied: certifi>=2017.4.17 in /usr/local/lib/python3.12/dist-packages (from requests) (2025.10.5)\n",
            "Requirement already satisfied: pandas in /usr/local/lib/python3.12/dist-packages (2.2.2)\n",
            "Requirement already satisfied: numpy>=1.26.0 in /usr/local/lib/python3.12/dist-packages (from pandas) (2.0.2)\n",
            "Requirement already satisfied: python-dateutil>=2.8.2 in /usr/local/lib/python3.12/dist-packages (from pandas) (2.9.0.post0)\n",
            "Requirement already satisfied: pytz>=2020.1 in /usr/local/lib/python3.12/dist-packages (from pandas) (2025.2)\n",
            "Requirement already satisfied: tzdata>=2022.7 in /usr/local/lib/python3.12/dist-packages (from pandas) (2025.2)\n",
            "Requirement already satisfied: six>=1.5 in /usr/local/lib/python3.12/dist-packages (from python-dateutil>=2.8.2->pandas) (1.17.0)\n"
          ]
        }
      ]
    },
    {
      "cell_type": "markdown",
      "source": [
        "**2. User Input**\n",
        "\n",
        "The script will ask for the follow:\n",
        "\n",
        "- Station number\n",
        "- Time Series Resolution\n",
        "- Start Date\n",
        "- End Date\n",
        "- Tide Series"
      ],
      "metadata": {
        "id": "r5X-XTCb_Vx4"
      }
    },
    {
      "cell_type": "code",
      "execution_count": 2,
      "metadata": {
        "id": "a3EFpdkNeJyh",
        "colab": {
          "base_uri": "https://localhost:8080/"
        },
        "outputId": "a8a93987-77ec-425a-d62b-fa4a198d011b"
      },
      "outputs": [
        {
          "name": "stdout",
          "output_type": "stream",
          "text": [
            "Please Provide Station Number: 07824\n",
            "Provide number of Resolution for Data Download 1, 3, 15, 60: 3\n",
            "Provide Start Date in YYYY-MM-DD Format: 2025-10-06\n",
            "Provide End Date in YYYY-MM-DD Format: 2025-10-19\n",
            "Provide Tide Series Code wlo, wlp: wlp\n"
          ]
        }
      ],
      "source": [
        "stn_num = int(input('Please Provide Station Number: '))\n",
        "data_res = input('Provide number of Resolution for Data Download 1, 3, 15, 60: ')\n",
        "start_date = input('Provide Start Date in YYYY-MM-DD Format: ')\n",
        "end_date = input('Provide End Date in YYYY-MM-DD Format: ')\n",
        "tide_series = input('Provide Tide Series Code wlo, wlp: ').lower()"
      ]
    },
    {
      "cell_type": "markdown",
      "source": [
        "**3. Validate User Input**"
      ],
      "metadata": {
        "id": "QbjWgHHdhN9j"
      }
    },
    {
      "cell_type": "code",
      "source": [
        "valid_dates = False\n",
        "while not valid_dates:\n",
        "    try:\n",
        "        format = '%Y-%m-%d'\n",
        "        ma = datetime.strptime(end_date, format).date()\n",
        "        mi = datetime.strptime(start_date, format).date()\n",
        "    except ValueError:\n",
        "        start_date = input(f'Provided value was {start_date}, please Provide a Start Date in YYYY-MM-DD Format: ')\n",
        "        end_date = input(f'Provided value was {end_date}, please Provide a Start Date in YYYY-MM-DD Format: ')\n",
        "        ma = datetime.strptime(end_date, format).date()\n",
        "        mi = datetime.strptime(start_date, format).date()\n",
        "        pass\n",
        "    if  ma < mi:\n",
        "        start_date = input(f'Start Date of {start_date} is not < End Date of {end_date}, please provide a Start Date that is less than the End Date ')\n",
        "        end_date = input('Provide End Date in YYYY-MM-DD Format: ')\n",
        "        valid_dates = False\n",
        "    else:\n",
        "        ma = datetime.strptime(end_date, format).date()\n",
        "        mi = datetime.strptime(start_date, format).date()\n",
        "        valid_dates = True\n",
        "\n",
        "\n",
        "valid_tide_series = ['wlo', 'wlp']\n",
        "valid_res = ['1', '3', '15', '60']\n",
        "\n",
        "valid_tide = False\n",
        "while not valid_tide:\n",
        "     try:\n",
        "          if tide_series not in valid_tide_series:\n",
        "              tide_series = input(f'Provided value was {tide_series}, please Provide a valid tide series (wlo or wlp)')\n",
        "          else:\n",
        "              valid_tide = True\n",
        "     except ValueError:\n",
        "          tide_series = input(f'Provided value was {tide_series}, please Provide a valid tide series (wlo or wlp)')\n",
        "          pass\n",
        "\n",
        "valid_resolution = False\n",
        "while not valid_tide:\n",
        "     try:\n",
        "          if data_res not in valid_res:\n",
        "              data_res = input('Provide number of Resolution for Data Download 1, 3, 15, 60: ')\n",
        "          else:\n",
        "              valid_resolution = True\n",
        "     except ValueError:\n",
        "          data_res = input('Provide number of Resolution for Data Download 1, 3, 15, 60: ')\n",
        "          pass"
      ],
      "metadata": {
        "id": "_JrxUASzhK9Y"
      },
      "execution_count": 3,
      "outputs": []
    },
    {
      "cell_type": "markdown",
      "source": [
        "**4. Find station endpoint based on station number provided**"
      ],
      "metadata": {
        "id": "fTvUrDdOjXnZ"
      }
    },
    {
      "cell_type": "code",
      "source": [
        "# Correcting to have Station in 5 digit format\n",
        "stn_num = f\"{stn_num:05d}\"\n",
        "stn_url = f'https://api.iwls-sine.azure.cloud-nuage.dfo-mpo.gc.ca/api/v1/stations?code={stn_num}'\n",
        "stn_url"
      ],
      "metadata": {
        "id": "M7WB4o97ih79",
        "colab": {
          "base_uri": "https://localhost:8080/",
          "height": 53
        },
        "outputId": "6e6b759c-6f7f-45c8-b12b-0fa7b5a5a61a"
      },
      "execution_count": 4,
      "outputs": [
        {
          "output_type": "execute_result",
          "data": {
            "text/plain": [
              "'https://api.iwls-sine.azure.cloud-nuage.dfo-mpo.gc.ca/api/v1/stations?code=07824'"
            ],
            "application/vnd.google.colaboratory.intrinsic+json": {
              "type": "string"
            }
          },
          "metadata": {},
          "execution_count": 4
        }
      ]
    },
    {
      "cell_type": "code",
      "source": [
        "df = pd.read_json(stn_url)\n",
        "stn_id = df['id'].to_list()\n",
        "stn_id"
      ],
      "metadata": {
        "id": "-5amqtLafIt7",
        "colab": {
          "base_uri": "https://localhost:8080/"
        },
        "outputId": "4f8810ee-011b-4579-bcc2-11303d2e43b8"
      },
      "execution_count": 5,
      "outputs": [
        {
          "output_type": "execute_result",
          "data": {
            "text/plain": [
              "['5dd3064ee0fdc4b9b4be670a']"
            ]
          },
          "metadata": {},
          "execution_count": 5
        }
      ]
    },
    {
      "cell_type": "markdown",
      "source": [
        "**5. Program to select the correct time series resolution based on resolution input**"
      ],
      "metadata": {
        "id": "gBUWTZi0fIJP"
      }
    },
    {
      "cell_type": "code",
      "source": [
        "if data_res == '1':\n",
        "    resolution = 'ONE_MINUTE'\n",
        "elif data_res == '3':\n",
        "    resolution = 'THREE_MINUTES'\n",
        "elif data_res == '15':\n",
        "    resolution = 'FITEEN_MINUTES'\n",
        "else:\n",
        "    resolution = 'SIXTY_MINUTES'"
      ],
      "metadata": {
        "id": "LZAHsDzgmcw8"
      },
      "execution_count": 6,
      "outputs": []
    },
    {
      "cell_type": "markdown",
      "source": [
        "**6. Create incremental list of Min Dates until more or greater than the Max Date.**"
      ],
      "metadata": {
        "id": "klBpwqNssE-O"
      }
    },
    {
      "cell_type": "code",
      "source": [
        "format = '%Y-%m-%d'\n",
        "ma = datetime.strptime(end_date, format).date()\n",
        "mi = datetime.strptime(start_date, format).date()\n",
        "dayoffset = 6\n",
        "start_dates =[]\n",
        "end_dates = []\n",
        "while mi < ma:\n",
        "    start_dates.append(mi.strftime(format))\n",
        "    mi = mi + timedelta(days=dayoffset)\n",
        "    end_dates.append(mi.strftime(format))\n",
        "end_dates[-1] = end_date\n",
        "print(start_dates)\n",
        "print(end_dates)\n",
        "\n"
      ],
      "metadata": {
        "id": "Ki4_HQ-ppPcb",
        "colab": {
          "base_uri": "https://localhost:8080/"
        },
        "outputId": "38e14193-a412-4b1e-96b7-2b9c7352b901"
      },
      "execution_count": 7,
      "outputs": [
        {
          "output_type": "stream",
          "name": "stdout",
          "text": [
            "['2025-10-06', '2025-10-12', '2025-10-18']\n",
            "['2025-10-12', '2025-10-18', '2025-10-19']\n"
          ]
        }
      ]
    },
    {
      "cell_type": "markdown",
      "source": [
        "**7. Create a list urls to request Tidal data from the API grouped by 7 day intervalsrequest until end date limit reached**"
      ],
      "metadata": {
        "id": "_j-1pzYyKPjj"
      }
    },
    {
      "cell_type": "code",
      "source": [
        "request_list = []\n",
        "\n",
        "i = 0\n",
        "for i in range(len(start_dates)):\n",
        "  sd = start_dates[i]\n",
        "  ed = end_dates[i]\n",
        "  data_url = (f'https://api.iwls-sine.azure.cloud-nuage.dfo-mpo.gc.ca/api/v1/' +\n",
        "                f'stations/{stn_id[0]}/data?time-series-code={tide_series}&from=' +\n",
        "                f'{sd}T00%3A00%3A00Z&to={ed}T23%3A59%3A59Z&'+\n",
        "                f'resolution={resolution}')\n",
        "  request_list.append(data_url)\n"
      ],
      "metadata": {
        "id": "q3fI0HXwrrC2"
      },
      "execution_count": 8,
      "outputs": []
    },
    {
      "cell_type": "code",
      "source": [
        "request_list"
      ],
      "metadata": {
        "id": "5eurIESElyR_",
        "colab": {
          "base_uri": "https://localhost:8080/"
        },
        "outputId": "592f171f-c4dc-41ce-ae81-5d2a47be2cb1"
      },
      "execution_count": 9,
      "outputs": [
        {
          "output_type": "execute_result",
          "data": {
            "text/plain": [
              "['https://api.iwls-sine.azure.cloud-nuage.dfo-mpo.gc.ca/api/v1/stations/5dd3064ee0fdc4b9b4be670a/data?time-series-code=wlp&from=2025-10-06T00%3A00%3A00Z&to=2025-10-12T23%3A59%3A59Z&resolution=THREE_MINUTES',\n",
              " 'https://api.iwls-sine.azure.cloud-nuage.dfo-mpo.gc.ca/api/v1/stations/5dd3064ee0fdc4b9b4be670a/data?time-series-code=wlp&from=2025-10-12T00%3A00%3A00Z&to=2025-10-18T23%3A59%3A59Z&resolution=THREE_MINUTES',\n",
              " 'https://api.iwls-sine.azure.cloud-nuage.dfo-mpo.gc.ca/api/v1/stations/5dd3064ee0fdc4b9b4be670a/data?time-series-code=wlp&from=2025-10-18T00%3A00%3A00Z&to=2025-10-19T23%3A59%3A59Z&resolution=THREE_MINUTES']"
            ]
          },
          "metadata": {},
          "execution_count": 9
        }
      ]
    },
    {
      "cell_type": "markdown",
      "source": [
        "**8. Append data to a new Dataframe and export as a csv**"
      ],
      "metadata": {
        "id": "ikCC0tU9vrZS"
      }
    },
    {
      "cell_type": "code",
      "source": [
        "data = pd.DataFrame()\n",
        "for url in request_list:\n",
        "  df = pd.read_json(url)\n",
        "  data = pd.concat([data, df])\n",
        "  time.sleep(1)\n",
        "data\n",
        "\n",
        "data.to_csv(f'{stn_num}_{start_date}_{end_date}_{tide_series}_{resolution}.csv')"
      ],
      "metadata": {
        "id": "AOt9YYY3njAJ"
      },
      "execution_count": 15,
      "outputs": []
    },
    {
      "cell_type": "markdown",
      "source": [
        "**9. Convert the CSV into Caris Tide File format**"
      ],
      "metadata": {
        "id": "30RNIDeyqh8g"
      }
    },
    {
      "cell_type": "code",
      "source": [
        "data['date_time'] = pd.to_datetime(data['eventDate'])\n",
        "data['date'] = pd.to_datetime(data['date_time']).dt.strftime(\"%Y/%m/%d\")\n",
        "data['time'] = data['date_time'].dt.time\n",
        "data = data.drop(columns=['eventDate'])\n",
        "\n",
        "tide_data = data[['date', 'time', 'value']]\n",
        "fname = f'{stn_num}_{start_date}_{end_date}_{tide_series}_{resolution}'\n",
        "\n",
        "with open(f'{fname}_CarisTide.txt', 'w') as f:\n",
        "    dfAsString = tide_data.to_string(header=False, index=False)\n",
        "    f.write(dfAsString)\n",
        "    f.close()\n",
        "\n",
        "with open(f'{fname}_CarisTide.tid', 'w') as f2:\n",
        "    f2.write('--------\\n')\n",
        "\n",
        "    file = open(f'{fname}_CarisTide.txt', 'r')\n",
        "    lines = file.readlines()\n",
        "    for line in lines:\n",
        "        line = line.strip()\n",
        "        if line=='' or line==\"/n\":\n",
        "            pass\n",
        "        else:\n",
        "            f2.write(line + '\\n')\n",
        "    file.close()\n"
      ],
      "metadata": {
        "id": "gILJyneEnjLe"
      },
      "execution_count": 23,
      "outputs": []
    }
  ]
}